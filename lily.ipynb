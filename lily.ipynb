{
  "nbformat": 4,
  "nbformat_minor": 0,
  "metadata": {
    "colab": {
      "provenance": []
    },
    "kernelspec": {
      "name": "python3",
      "display_name": "Python 3"
    },
    "language_info": {
      "name": "python"
    }
  },
  "cells": [
    {
      "cell_type": "code",
      "execution_count": null,
      "metadata": {
        "colab": {
          "base_uri": "https://localhost:8080/"
        },
        "id": "26XP1fZqjFMG",
        "outputId": "73471c54-b325-4dbb-c078-bf6041d51562"
      },
      "outputs": [
        {
          "output_type": "stream",
          "name": "stdout",
          "text": [
            "Requirement already satisfied: nltk in /usr/local/lib/python3.11/dist-packages (3.9.1)\n",
            "Requirement already satisfied: click in /usr/local/lib/python3.11/dist-packages (from nltk) (8.2.0)\n",
            "Requirement already satisfied: joblib in /usr/local/lib/python3.11/dist-packages (from nltk) (1.5.0)\n",
            "Requirement already satisfied: regex>=2021.8.3 in /usr/local/lib/python3.11/dist-packages (from nltk) (2024.11.6)\n",
            "Requirement already satisfied: tqdm in /usr/local/lib/python3.11/dist-packages (from nltk) (4.67.1)\n"
          ]
        },
        {
          "output_type": "stream",
          "name": "stderr",
          "text": [
            "[nltk_data] Downloading package punkt to /root/nltk_data...\n",
            "[nltk_data]   Package punkt is already up-to-date!\n",
            "[nltk_data] Downloading package wordnet to /root/nltk_data...\n",
            "[nltk_data]   Package wordnet is already up-to-date!\n",
            "[nltk_data] Downloading package omw-1.4 to /root/nltk_data...\n",
            "[nltk_data]   Package omw-1.4 is already up-to-date!\n",
            "[nltk_data] Downloading package punkt_tab to /root/nltk_data...\n",
            "[nltk_data]   Package punkt_tab is already up-to-date!\n"
          ]
        },
        {
          "output_type": "execute_result",
          "data": {
            "text/plain": [
              "True"
            ]
          },
          "metadata": {},
          "execution_count": 6
        }
      ],
      "source": [
        "!pip install nltk\n",
        "import nltk\n",
        "import string\n",
        "from nltk.stem import WordNetLemmatizer\n",
        "\n",
        "\n",
        "nltk.download('punkt')\n",
        "nltk.download('wordnet')\n",
        "nltk.download('omw-1.4')\n",
        "nltk.download('punkt_tab')"
      ]
    },
    {
      "cell_type": "code",
      "source": [
        "#general questions or faqs related to pinnacle labs\n",
        "faq_pairs = {\n",
        "  \"hi\": \"Hello! How can I help you today?\",\n",
        "  \"hello\": \"Hi there! What can I assist you with?\",\n",
        "  \"Tell me about Pinnacle Labs?\":\"Pinnacle Labs Kolkata is an IT services and consulting firm based in Kolkata, India. The company offers a range of services including software development, cybersecurity, cloud computing, and data analytics, aiming to empower businesses with innovative IT solutions that drive growth and enhance security.\",\n",
        "  \"How can I contact Pinnacle Labs support?\": \"You can reach our support team through the Contact Us page, email, or live chat on our website.\",\n",
        "  \"What are your customer support hours?\": \"We offer support from 10 AM to 7 PM IST, Monday through Saturday.\",\n",
        "  \"Is live chat support available on the website?\": \"Yes, our chatbot and live agent support are available on our website for real-time assistance.\",\n",
        "  \"Can I talk to a human support agent?\": \"Absolutely! You can escalate a chatbot conversation to a human agent during working hours.\",\n",
        "  \"How long does it take to get a response?\": \"Our average response time is within 2–4 business hours, and instantly via live chat.\",\n",
        "  \"Do you offer multilingual support?\": \"Currently, our support is available in English, but we’re expanding language options soon.\",\n",
        "  \"Where can I submit a support ticket?\": \"You can submit a ticket through our website’s support page or by emailing us at support@pinnaclelabs.tech.\",\n",
        "  \"How do I track my support ticket status?\": \"You'll receive an email with a tracking link and updates until your issue is resolved.\",\n",
        "  \"Can I provide feedback on my support experience?\": \"Yes, after each interaction, you’ll have the opportunity to rate and review the support.\",\n",
        "  \"What is your escalation process?\": \"If you're not satisfied, your case will be reviewed by a senior support manager for resolution within 24 hours.\",\n",
        "  \"I’m facing an issue with my software developed by Pinnacle Labs. What should I do?\": \"Please report it via support or email us with screenshots and details; our team will assist promptly.\",\n",
        "  \"How can I reset my login credentials?\": \"Use the “Forgot Password” link on the login page or contact support for manual reset.\",\n",
        "  \"My project dashboard isn’t loading properly. What can I do?\": \"Clear your cache or try a different browser. If the issue persists, contact us for immediate help.\",\n",
        "  \"Do you offer remote troubleshooting sessions?\": \"Yes, with your permission, our support agents can guide you via remote sessions.\",\n",
        "  \"Can I request additional features or changes to my project?\": \"Yes, please raise a request via your account manager or support portal.\",\n",
        "  \"I encountered a bug. How can I report it?\": \"Use the 'Report Issue' button in the client portal or send a detailed email to our tech team.\",\n",
        "  \"Do you offer documentation or user guides?\": \"Yes, we provide documentation and training materials for all major deliverables.\",\n",
        "  \"How do I get updates about bug fixes or feature releases?\": \"Subscribe to our update notifications or follow your client portal’s news feed.\",\n",
        "  \"Will my issue be handled securely?\": \"Yes, all issues are tracked in a secure system, and our support is compliant with data privacy best practices.\",\n",
        "  \"Can I speak directly with a developer?\": \"Yes, for complex issues, support will schedule a call with the relevant developer or tech lead.\",\n",
        "  \"Do you provide onboarding support for new clients?\": \"Yes, every client receives onboarding assistance, including product walkthroughs and setup help.\",\n",
        "  \"Can I schedule a demo before signing up for a service?\": \"Absolutely. You can request a personalized demo via our website.\",\n",
        "  \"Is there a knowledge base or FAQ section I can access?\": \"Yes, we’re developing a detailed help center for 24/7 self-service support.\",\n",
        "  \"How do I stay updated with your latest features?\": \"Join our mailing list or follow us on LinkedIn for real-time updates.\",\n",
        "  \"Can I chat with a bot for quick help?\": \"Yes, our AI chatbot is trained to assist with common queries and escalate when needed.\",\n",
        "  \"Is feedback from users actively used to improve services?\": \"Definitely! We evaluate all feedback to enhance product quality and support.\",\n",
        "  \"Do you offer client training or webinars?\": \"Yes, we periodically host webinars and training sessions for clients and interns.\",\n",
        "  \"How is support for internship-related queries handled?\": \"Interns can use a dedicated support form or contact their coordinator via chat/email.\",\n",
        "  \"Can I integrate Pinnacle Labs services with my own tools?\": \"Yes, and our team will assist in configuring and troubleshooting integrations.\",\n",
        "  \"Do you offer service-level agreements (SLAs)?\": \"Yes, enterprise clients can request SLAs tailored to their project or service needs.\",\n",
        "  \"bye\": \"Thank you for contacting support. Have a great day!\",\n",
        "}\n",
        "\n",
        "\n",
        "\n",
        "# Initialize lemmatizer\n",
        "lemmatizer = WordNetLemmatizer()\n",
        "\n",
        "# Define characters to ignore\n",
        "ignore_letters = '? ! . ,'\n",
        "\n",
        "# Variable to store the user's name\n",
        "user_name = None\n",
        "\n",
        "# Preprocess user input\n",
        "def preprocess(sentence):\n",
        "    tokens = nltk.word_tokenize(sentence.lower())\n",
        "    # Convert ignore_letters string into a set for efficient lookup\n",
        "    ignore_set = set(ignore_letters)\n",
        "    tokens = [lemmatizer.lemmatize(word) for word in tokens if word not in ignore_set and word not in string.punctuation]\n",
        "    return tokens\n",
        "# Generate response based on input\n",
        "def get_response(user_input):\n",
        "    user_input = user_input.lower()\n",
        "    processed_input = preprocess(user_input)\n",
        "\n",
        "    for question in faq_pairs:\n",
        "        question_keywords = preprocess(question)  # preprocess the question too\n",
        "\n",
        "        # Check if all question keywords are in processed_input\n",
        "        if all(word in processed_input for word in question_keywords):\n",
        "            return faq_pairs[question]\n",
        "\n",
        "    return \"I'm sorry, I didn't understand that. Can you please rephrase your question?\"\n",
        "\n",
        "# Chatbot main loop\n",
        "def chat():\n",
        "    global user_name  # Declare user_name as global to modify it\n",
        "    print(\"Lily: Hello! I am your customer support bot. Type 'bye' to exit.\")\n",
        "\n",
        "    if user_name is None:\n",
        "        user_name = input(\"Lily: What is your name? \")\n",
        "\n",
        "    # Initial greeting using the user's name\n",
        "    if user_name:\n",
        "        print(f\"Lily: Hello {user_name}, how can I help you today?\")\n",
        "    else:\n",
        "        print(\"Lily: Hello, how can I help you today?\")\n",
        "    while True:\n",
        "        user_input = input(\"You: \")\n",
        "        if user_input.lower() == 'bye':\n",
        "            print(\"Lily:\", faq_pairs[\"bye\"])\n",
        "            break\n",
        "        response = get_response(user_input)\n",
        "        print(\"Lily:\", response)\n",
        "\n",
        "# Run chatbot\n",
        "if __name__ == \"__main__\":\n",
        "    chat()"
      ],
      "metadata": {
        "colab": {
          "base_uri": "https://localhost:8080/"
        },
        "id": "5pQcR7-M0XZU",
        "outputId": "cff2e77a-0d79-44fc-a0c4-6cd93350ac85"
      },
      "execution_count": null,
      "outputs": [
        {
          "output_type": "stream",
          "name": "stdout",
          "text": [
            "Lily: Hello! I am your customer support bot. Type 'bye' to exit.\n",
            "Lily: What is your name? Ayan\n",
            "Lily: Hello Ayan, how can I help you today?\n",
            "You: Tell me about Pinnacle Labs?\n",
            "Lily: Pinnacle Labs Kolkata is an IT services and consulting firm based in Kolkata, India. The company offers a range of services including software development, cybersecurity, cloud computing, and data analytics, aiming to empower businesses with innovative IT solutions that drive growth and enhance security.\n",
            "You: How can I contact Pinnacle Labs support?\n",
            "Lily: You can reach our support team through the Contact Us page, email, or live chat on our website.\n",
            "You: Do you offer multilingual support?\n",
            "Lily: Currently, our support is available in English, but we’re expanding language options soon.\n",
            "You: bye\n",
            "Lily: Thank you for contacting support. Have a great day!\n"
          ]
        }
      ]
    }
  ]
}